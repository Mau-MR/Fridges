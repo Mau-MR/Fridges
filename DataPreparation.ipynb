{
 "cells": [
  {
   "cell_type": "markdown",
   "id": "1784303f",
   "metadata": {},
   "source": [
    "# Converting SynthDet labels to yolo"
   ]
  },
  {
   "cell_type": "markdown",
   "id": "026b4b40",
   "metadata": {},
   "source": [
    "Project structure with labels"
   ]
  },
  {
   "cell_type": "code",
   "execution_count": null,
   "id": "7c2316be",
   "metadata": {},
   "outputs": [],
   "source": [
    "!cd Info && ls"
   ]
  },
  {
   "cell_type": "markdown",
   "id": "27f0a208",
   "metadata": {},
   "source": [
    "Loading json with the labels"
   ]
  },
  {
   "cell_type": "code",
   "execution_count": 44,
   "id": "fefba100",
   "metadata": {},
   "outputs": [],
   "source": [
    "import json\n",
    "\n",
    "path_to_labels = 'Info/captures_00'\n",
    "number_files = 7 # TODO: MODIFY IF NUMBER OF FILES IS BIGGER\n",
    "jsons = []\n",
    "for file_number in range(number_files):\n",
    "    file = open(path_to_labels+str(file_number)+\".json\", 'r')\n",
    "    j = json.load(file)\n",
    "    jsons.append(j)"
   ]
  },
  {
   "cell_type": "markdown",
   "id": "4c5cff45",
   "metadata": {},
   "source": [
    "> Yolo Format folows this pattern, we convert the json to fit the requeriments"
   ]
  },
  {
   "attachments": {
    "image.png": {
     "image/png": "[encoded data removed]"
    }
   },
   "cell_type": "markdown",
   "id": "154ed651",
   "metadata": {},
   "source": [
    "![image.png](attachment:image.png)"
   ]
  },
  {
   "cell_type": "code",
   "execution_count": 62,
   "id": "99fa2373",
   "metadata": {},
   "outputs": [],
   "source": [
    "file_annot = {}\n",
    "for j in range(len(jsons)): #Iterating over files\n",
    "    for label in jsons[j]['captures']: #Iterating over captures of the files\n",
    "        file = label['filename'].split('/')[1]\n",
    "        file_annot[file] = [] #Creating new records for the file\n",
    "        for annot in label['annotations'][0]['values']: #Iterating  over annot in captures\n",
    "            yolo_fmt =  [str(annot['label_id']), str(annot['x']), str(annot['y']), str(annot['width']), str(annot['height'])]\n",
    "            file_annot[file].append(yolo_fmt)"
   ]
  },
  {
   "cell_type": "code",
   "execution_count": 63,
   "id": "0df475f1",
   "metadata": {},
   "outputs": [
    {
     "name": "stdout",
     "output_type": "stream",
     "text": [
      "[['1', '1315.0', '30.0', '150.0', '77.0'], ['1', '1041.0', '82.0', '215.0', '108.0'], ['1', '671.0', '132.0', '214.0', '110.0'], ['1', '1412.0', '271.0', '213.0', '86.0'], ['1', '1216.0', '317.0', '136.0', '69.0'], ['1', '413.0', '396.0', '118.0', '65.0'], ['1', '914.0', '423.0', '155.0', '78.0'], ['1', '1195.0', '587.0', '222.0', '121.0'], ['1', '1069.0', '676.0', '193.0', '99.0'], ['1', '662.0', '795.0', '179.0', '72.0'], ['1', '349.0', '810.0', '162.0', '89.0'], ['1', '1327.0', '866.0', '239.0', '95.0'], ['1', '842.0', '889.0', '280.0', '113.0'], ['1', '1070.0', '1008.0', '273.0', '72.0'], ['1', '491.0', '1040.0', '176.0', '40.0']]\n"
     ]
    }
   ],
   "source": [
    "print(file_annot['rgb_1001.png'])"
   ]
  },
  {
   "cell_type": "markdown",
   "id": "9f0db7eb",
   "metadata": {},
   "source": [
    "Writing  the logs to file "
   ]
  },
  {
   "cell_type": "code",
   "execution_count": 68,
   "id": "16d60192",
   "metadata": {},
   "outputs": [],
   "source": [
    "import pandas as pd\n",
    "from pathlib import Path\n",
    "\n",
    "for key, val in file_annot.items():\n",
    "    df = pd.DataFrame(val)\n",
    "    path_out = Path('Labels/'+key.split('.')[0]+'.txt')\n",
    "    df.to_csv(path_out, header=False, index=False, sep=' ')"
   ]
  }
 ],
 "metadata": {
  "kernelspec": {
   "display_name": "yolov7_custom",
   "language": "python",
   "name": "yolov7_custom"
  },
  "language_info": {
   "codemirror_mode": {
    "name": "ipython",
    "version": 3
   },
   "file_extension": ".py",
   "mimetype": "text/x-python",
   "name": "python",
   "nbconvert_exporter": "python",
   "pygments_lexer": "ipython3",
   "version": "3.9.13"
  }
 },
 "nbformat": 4,
 "nbformat_minor": 5
}
