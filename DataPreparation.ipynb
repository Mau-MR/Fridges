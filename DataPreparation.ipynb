{
 "cells": [
  {
   "cell_type": "markdown",
   "id": "1784303f",
   "metadata": {},
   "source": [
    "# Converting SynthDet labels to yolo"
   ]
  },
  {
   "cell_type": "markdown",
   "id": "026b4b40",
   "metadata": {},
   "source": [
    "Project structure with labels"
   ]
  },
  {
   "cell_type": "code",
   "execution_count": null,
   "id": "7c2316be",
   "metadata": {},
   "outputs": [],
   "source": [
    "!cd Info && ls"
   ]
  },
  {
   "cell_type": "markdown",
   "id": "27f0a208",
   "metadata": {},
   "source": [
    "Loading json with the labels"
   ]
  },
  {
   "cell_type": "code",
   "execution_count": 44,
   "id": "fefba100",
   "metadata": {},
   "outputs": [],
   "source": [
    "import json\n",
    "\n",
    "path_to_labels = 'Info/captures_00'\n",
    "number_files = 7 # TODO: MODIFY IF NUMBER OF FILES IS BIGGER\n",
    "jsons = []\n",
    "for file_number in range(number_files):\n",
    "    file = open(path_to_labels+str(file_number)+\".json\", 'r')\n",
    "    j = json.load(file)\n",
    "    jsons.append(j)"
   ]
  },
  {
   "cell_type": "markdown",
   "id": "3b0548cf",
   "metadata": {},
   "source": [
    "> Yolo Format folows this pattern, we convert the json to fit the requeriments"
   ]
  },
  {
   "attachments": {
    "image.png": {
     "image/png": "[encoded data removed]"
    }
   },
   "cell_type": "markdown",
   "id": "154ed651",
   "metadata": {},
   "source": [
    "![image.png](attachment:image.png)"
   ]
  },
  {
   "cell_type": "code",
   "execution_count": 62,
   "id": "99fa2373",
   "metadata": {},
   "outputs": [],
   "source": [
    "file_annot = {}\n",
    "for j in range(len(jsons)): #Iterating over files\n",
    "    for label in jsons[j]['captures']: #Iterating over captures of the files\n",
    "        file = label['filename'].split('/')[1]\n",
    "        file_annot[file] = [] #Creating new records for the file\n",
    "        for annot in label['annotations'][0]['values']: #Iterating  over annot in captures\n",
    "            yolo_fmt =  [str(annot['label_id']), str(annot['x']), str(annot['y']), str(annot['width']), str(annot['height'])]\n",
    "            file_annot[file].append(yolo_fmt)"
   ]
  },
  {
   "cell_type": "code",
   "execution_count": 63,
   "id": "0df475f1",
   "metadata": {},
   "outputs": [
    {
     "name": "stdout",
     "output_type": "stream",
     "text": [
      "[['1', '1315.0', '30.0', '150.0', '77.0'], ['1', '1041.0', '82.0', '215.0', '108.0'], ['1', '671.0', '132.0', '214.0', '110.0'], ['1', '1412.0', '271.0', '213.0', '86.0'], ['1', '1216.0', '317.0', '136.0', '69.0'], ['1', '413.0', '396.0', '118.0', '65.0'], ['1', '914.0', '423.0', '155.0', '78.0'], ['1', '1195.0', '587.0', '222.0', '121.0'], ['1', '1069.0', '676.0', '193.0', '99.0'], ['1', '662.0', '795.0', '179.0', '72.0'], ['1', '349.0', '810.0', '162.0', '89.0'], ['1', '1327.0', '866.0', '239.0', '95.0'], ['1', '842.0', '889.0', '280.0', '113.0'], ['1', '1070.0', '1008.0', '273.0', '72.0'], ['1', '491.0', '1040.0', '176.0', '40.0']]\n"
     ]
    }
   ],
   "source": [
    "print(file_annot['rgb_1001.png'])"
   ]
  },
  {
   "cell_type": "markdown",
   "id": "0fa6e1f2",
   "metadata": {},
   "source": [
    "Writing  the logs to file "
   ]
  },
  {
   "cell_type": "code",
   "execution_count": 68,
   "id": "8f238498",
   "metadata": {},
   "outputs": [],
   "source": [
    "import pandas as pd\n",
    "from pathlib import Path\n",
    "\n",
    "for key, val in file_annot.items():\n",
    "    df = pd.DataFrame(val)\n",
    "    path_out = Path('Labels/'+key.split('.')[0]+'.txt')\n",
    "    df.to_csv(path_out, header=False, index=False, sep=' ')"
   ]
  },
  {
   "cell_type": "markdown",
   "id": "4d736cb7",
   "metadata": {},
   "source": [
    "# YOLO V7 configuration"
   ]
  },
  {
   "cell_type": "code",
   "execution_count": 69,
   "id": "7495f259",
   "metadata": {},
   "outputs": [
    {
     "name": "stdout",
     "output_type": "stream",
     "text": [
      "Cloning into 'yolov7'...\n",
      "remote: Enumerating objects: 994, done.\u001b[K\n",
      "remote: Total 994 (delta 0), reused 0 (delta 0), pack-reused 994\u001b[K\n",
      "Receiving objects: 100% (994/994), 69.70 MiB | 7.69 MiB/s, done.\n",
      "Resolving deltas: 100% (491/491), done.\n"
     ]
    }
   ],
   "source": [
    "!git clone https://github.com/WongKinYiu/yolov7.git"
   ]
  },
  {
   "cell_type": "code",
   "execution_count": 76,
   "id": "0e274680",
   "metadata": {},
   "outputs": [
    {
     "name": "stdout",
     "output_type": "stream",
     "text": [
      "Collecting matplotlib>=3.2.2\n",
      "  Downloading matplotlib-3.6.1-cp39-cp39-manylinux_2_17_x86_64.manylinux2014_x86_64.whl (11.8 MB)\n",
      "\u001b[2K     \u001b[38;2;114;156;31m━━━━━━━━━━━━━━━━━━━━━━━━━━━━━━━━━━━━━━━━\u001b[0m \u001b[32m11.8/11.8 MB\u001b[0m \u001b[31m8.2 MB/s\u001b[0m eta \u001b[36m0:00:00\u001b[0mm eta \u001b[36m0:00:01\u001b[0m[36m0:00:01\u001b[0m\n",
      "\u001b[?25hRequirement already satisfied: numpy>=1.18.5 in /home/mawi/anaconda3/envs/yolov7_custom/lib/python3.9/site-packages (from -r requirements.txt (line 5)) (1.23.4)\n",
      "Collecting opencv-python>=4.1.1\n",
      "  Downloading opencv_python-4.6.0.66-cp36-abi3-manylinux_2_17_x86_64.manylinux2014_x86_64.whl (60.9 MB)\n",
      "\u001b[2K     \u001b[38;2;114;156;31m━━━━━━━━━━━━━━━━━━━━━━━━━━━━━━━━━━━━━━━━\u001b[0m \u001b[32m60.9/60.9 MB\u001b[0m \u001b[31m7.2 MB/s\u001b[0m eta \u001b[36m0:00:00\u001b[0mm eta \u001b[36m0:00:01\u001b[0m[36m0:00:01\u001b[0m\n",
      "\u001b[?25hCollecting Pillow>=7.1.2\n",
      "  Downloading Pillow-9.2.0-cp39-cp39-manylinux_2_28_x86_64.whl (3.2 MB)\n",
      "\u001b[2K     \u001b[38;2;114;156;31m━━━━━━━━━━━━━━━━━━━━━━━━━━━━━━━━━━━━━━━━\u001b[0m \u001b[32m3.2/3.2 MB\u001b[0m \u001b[31m16.7 MB/s\u001b[0m eta \u001b[36m0:00:00\u001b[0mm eta \u001b[36m0:00:01\u001b[0m0:01\u001b[0m0:01\u001b[0m\n",
      "\u001b[?25hCollecting PyYAML>=5.3.1\n",
      "  Downloading PyYAML-6.0-cp39-cp39-manylinux_2_5_x86_64.manylinux1_x86_64.manylinux_2_12_x86_64.manylinux2010_x86_64.whl (661 kB)\n",
      "\u001b[2K     \u001b[38;2;114;156;31m━━━━━━━━━━━━━━━━━━━━━━━━━━━━━━━━━━━━━━━\u001b[0m \u001b[32m661.8/661.8 kB\u001b[0m \u001b[31m6.4 MB/s\u001b[0m eta \u001b[36m0:00:00\u001b[0mm eta \u001b[36m0:00:01\u001b[0m[36m0:00:01\u001b[0m\n",
      "\u001b[?25hCollecting requests>=2.23.0\n",
      "  Using cached requests-2.28.1-py3-none-any.whl (62 kB)\n",
      "Collecting scipy>=1.4.1\n",
      "  Downloading scipy-1.9.2-cp39-cp39-manylinux_2_17_x86_64.manylinux2014_x86_64.whl (33.8 MB)\n",
      "\u001b[2K     \u001b[38;2;114;156;31m━━━━━━━━━━━━━━━━━━━━━━━━━━━━━━━━━━━━━━━━\u001b[0m \u001b[32m33.8/33.8 MB\u001b[0m \u001b[31m7.7 MB/s\u001b[0m eta \u001b[36m0:00:00\u001b[0mm eta \u001b[36m0:00:01\u001b[0m[36m0:00:01\u001b[0m\n",
      "\u001b[?25hCollecting torch!=1.12.0,>=1.7.0\n",
      "  Downloading torch-1.12.1-cp39-cp39-manylinux1_x86_64.whl (776.4 MB)\n",
      "\u001b[2K     \u001b[38;2;114;156;31m━━━━━━━━━━━━━━━━━━━━━━━━━━━━━━━━━━━━━━━\u001b[0m \u001b[32m776.4/776.4 MB\u001b[0m \u001b[31m3.2 MB/s\u001b[0m eta \u001b[36m0:00:00\u001b[0mm eta \u001b[36m0:00:01\u001b[0m[36m0:00:03\u001b[0m\n",
      "\u001b[?25hCollecting torchvision!=0.13.0,>=0.8.1\n",
      "  Downloading torchvision-0.13.1-cp39-cp39-manylinux1_x86_64.whl (19.1 MB)\n",
      "\u001b[2K     \u001b[38;2;114;156;31m━━━━━━━━━━━━━━━━━━━━━━━━━━━━━━━━━━━━━━━━\u001b[0m \u001b[32m19.1/19.1 MB\u001b[0m \u001b[31m8.1 MB/s\u001b[0m eta \u001b[36m0:00:00\u001b[0mm eta \u001b[36m0:00:01\u001b[0m0:01\u001b[0m:01\u001b[0m\n",
      "\u001b[?25hCollecting tqdm>=4.41.0\n",
      "  Downloading tqdm-4.64.1-py2.py3-none-any.whl (78 kB)\n",
      "\u001b[2K     \u001b[38;2;114;156;31m━━━━━━━━━━━━━━━━━━━━━━━━━━━━━━━━━━━━━━━━\u001b[0m \u001b[32m78.5/78.5 kB\u001b[0m \u001b[31m8.6 MB/s\u001b[0m eta \u001b[36m0:00:00\u001b[0m\n",
      "\u001b[?25hCollecting protobuf<4.21.3\n",
      "  Downloading protobuf-4.21.2-cp37-abi3-manylinux2014_x86_64.whl (407 kB)\n",
      "\u001b[2K     \u001b[38;2;114;156;31m━━━━━━━━━━━━━━━━━━━━━━━━━━━━━━━━━━━━━━━\u001b[0m \u001b[32m407.8/407.8 kB\u001b[0m \u001b[31m5.5 MB/s\u001b[0m eta \u001b[36m0:00:00\u001b[0m[36m0:00:01\u001b[0m[36m0:00:01\u001b[0m\n",
      "\u001b[?25hCollecting tensorboard>=2.4.1\n",
      "  Downloading tensorboard-2.10.1-py3-none-any.whl (5.9 MB)\n",
      "\u001b[2K     \u001b[38;2;114;156;31m━━━━━━━━━━━━━━━━━━━━━━━━━━━━━━━━━━━━━━━━\u001b[0m \u001b[32m5.9/5.9 MB\u001b[0m \u001b[31m8.0 MB/s\u001b[0m eta \u001b[36m0:00:00\u001b[0mm eta \u001b[36m0:00:01\u001b[0m0:01\u001b[0m:01\u001b[0m\n",
      "\u001b[?25hRequirement already satisfied: pandas>=1.1.4 in /home/mawi/anaconda3/envs/yolov7_custom/lib/python3.9/site-packages (from -r requirements.txt (line 21)) (1.5.0)\n",
      "Collecting seaborn>=0.11.0\n",
      "  Using cached seaborn-0.12.0-py3-none-any.whl (285 kB)\n",
      "Requirement already satisfied: ipython in /home/mawi/anaconda3/envs/yolov7_custom/lib/python3.9/site-packages (from -r requirements.txt (line 34)) (8.4.0)\n",
      "Collecting psutil\n",
      "  Downloading psutil-5.9.2-cp39-cp39-manylinux_2_12_x86_64.manylinux2010_x86_64.manylinux_2_17_x86_64.manylinux2014_x86_64.whl (281 kB)\n",
      "\u001b[2K     \u001b[38;2;114;156;31m━━━━━━━━━━━━━━━━━━━━━━━━━━━━━━━━━━━━━━━\u001b[0m \u001b[32m281.9/281.9 kB\u001b[0m \u001b[31m8.8 MB/s\u001b[0m eta \u001b[36m0:00:00\u001b[0m\n",
      "\u001b[?25hCollecting thop\n",
      "  Downloading thop-0.1.1.post2209072238-py3-none-any.whl (15 kB)\n",
      "Collecting contourpy>=1.0.1\n",
      "  Downloading contourpy-1.0.5-cp39-cp39-manylinux_2_17_x86_64.manylinux2014_x86_64.whl (296 kB)\n",
      "\u001b[2K     \u001b[38;2;114;156;31m━━━━━━━━━━━━━━━━━━━━━━━━━━━━━━━━━━━━━━━\u001b[0m \u001b[32m296.3/296.3 kB\u001b[0m \u001b[31m4.4 MB/s\u001b[0m eta \u001b[36m0:00:00\u001b[0m MB/s\u001b[0m eta \u001b[36m0:00:01\u001b[0m\n",
      "\u001b[?25hCollecting kiwisolver>=1.0.1\n",
      "  Downloading kiwisolver-1.4.4-cp39-cp39-manylinux_2_12_x86_64.manylinux2010_x86_64.whl (1.6 MB)\n",
      "\u001b[2K     \u001b[38;2;114;156;31m━━━━━━━━━━━━━━━━━━━━━━━━━━━━━━━━━━━━━━━━\u001b[0m \u001b[32m1.6/1.6 MB\u001b[0m \u001b[31m30.0 MB/s\u001b[0m eta \u001b[36m0:00:00\u001b[0mm eta \u001b[36m0:00:01\u001b[0m[36m0:00:01\u001b[0m\n",
      "\u001b[?25hCollecting cycler>=0.10\n",
      "  Using cached cycler-0.11.0-py3-none-any.whl (6.4 kB)\n",
      "Collecting fonttools>=4.22.0\n",
      "  Downloading fonttools-4.37.4-py3-none-any.whl (960 kB)\n",
      "\u001b[2K     \u001b[38;2;114;156;31m━━━━━━━━━━━━━━━━━━━━━━━━━━━━━━━━━━━━━━━\u001b[0m \u001b[32m960.8/960.8 kB\u001b[0m \u001b[31m8.2 MB/s\u001b[0m eta \u001b[36m0:00:00\u001b[0mm eta \u001b[36m0:00:01\u001b[0m[36m0:00:01\u001b[0m\n",
      "\u001b[?25hCollecting pyparsing>=2.2.1\n",
      "  Using cached pyparsing-3.0.9-py3-none-any.whl (98 kB)\n",
      "Collecting packaging>=20.0\n",
      "  Using cached packaging-21.3-py3-none-any.whl (40 kB)\n",
      "Requirement already satisfied: python-dateutil>=2.7 in /home/mawi/anaconda3/envs/yolov7_custom/lib/python3.9/site-packages (from matplotlib>=3.2.2->-r requirements.txt (line 4)) (2.8.2)\n",
      "Collecting urllib3<1.27,>=1.21.1\n",
      "  Using cached urllib3-1.26.12-py2.py3-none-any.whl (140 kB)\n",
      "Collecting charset-normalizer<3,>=2\n",
      "  Using cached charset_normalizer-2.1.1-py3-none-any.whl (39 kB)\n",
      "Requirement already satisfied: certifi>=2017.4.17 in /home/mawi/anaconda3/envs/yolov7_custom/lib/python3.9/site-packages (from requests>=2.23.0->-r requirements.txt (line 9)) (2022.6.15)\n",
      "Collecting idna<4,>=2.5\n",
      "  Downloading idna-3.4-py3-none-any.whl (61 kB)\n",
      "\u001b[2K     \u001b[38;2;114;156;31m━━━━━━━━━━━━━━━━━━━━━━━━━━━━━━━━━━━━━━━━\u001b[0m \u001b[32m61.5/61.5 kB\u001b[0m \u001b[31m1.3 MB/s\u001b[0m eta \u001b[36m0:00:00\u001b[0m0m eta \u001b[36m0:00:01\u001b[0m\n",
      "\u001b[?25hCollecting typing-extensions\n",
      "  Downloading typing_extensions-4.4.0-py3-none-any.whl (26 kB)\n",
      "Collecting tensorboard-plugin-wit>=1.6.0\n",
      "  Downloading tensorboard_plugin_wit-1.8.1-py3-none-any.whl (781 kB)\n",
      "\u001b[2K     \u001b[38;2;114;156;31m━━━━━━━━━━━━━━━━━━━━━━━━━━━━━━━━━━━━━━━\u001b[0m \u001b[32m781.3/781.3 kB\u001b[0m \u001b[31m8.1 MB/s\u001b[0m eta \u001b[36m0:00:00\u001b[0m[31m9.8 MB/s\u001b[0m eta \u001b[36m0:00:01\u001b[0m\n",
      "\u001b[?25hRequirement already satisfied: wheel>=0.26 in /home/mawi/anaconda3/envs/yolov7_custom/lib/python3.9/site-packages (from tensorboard>=2.4.1->-r requirements.txt (line 17)) (0.37.1)\n",
      "Collecting tensorboard-data-server<0.7.0,>=0.6.0\n",
      "  Downloading tensorboard_data_server-0.6.1-py3-none-manylinux2010_x86_64.whl (4.9 MB)\n",
      "\u001b[2K     \u001b[38;2;114;156;31m━━━━━━━━━━━━━━━━━━━━━━━━━━━━━━━━━━━━━━━━\u001b[0m \u001b[32m4.9/4.9 MB\u001b[0m \u001b[31m10.8 MB/s\u001b[0m eta \u001b[36m0:00:00\u001b[0mm eta \u001b[36m0:00:01\u001b[0m0:01\u001b[0m:01\u001b[0m\n",
      "\u001b[?25hCollecting protobuf<4.21.3\n",
      "  Downloading protobuf-3.19.6-cp39-cp39-manylinux_2_17_x86_64.manylinux2014_x86_64.whl (1.1 MB)\n",
      "\u001b[2K     \u001b[38;2;114;156;31m━━━━━━━━━━━━━━━━━━━━━━━━━━━━━━━━━━━━━━━━\u001b[0m \u001b[32m1.1/1.1 MB\u001b[0m \u001b[31m6.8 MB/s\u001b[0m eta \u001b[36m0:00:00\u001b[0mm eta \u001b[36m0:00:01\u001b[0m0:01\u001b[0m:01\u001b[0mm\n",
      "\u001b[?25hCollecting google-auth<3,>=1.6.3\n",
      "  Downloading google_auth-2.12.0-py2.py3-none-any.whl (169 kB)\n",
      "\u001b[2K     \u001b[38;2;114;156;31m━━━━━━━━━━━━━━━━━━━━━━━━━━━━━━━━━━━━━━━\u001b[0m \u001b[32m169.8/169.8 kB\u001b[0m \u001b[31m5.1 MB/s\u001b[0m eta \u001b[36m0:00:00\u001b[0m1m183.1 MB/s\u001b[0m eta \u001b[36m0:00:01\u001b[0m\n",
      "\u001b[?25hCollecting google-auth-oauthlib<0.5,>=0.4.1\n",
      "  Downloading google_auth_oauthlib-0.4.6-py2.py3-none-any.whl (18 kB)\n",
      "Collecting markdown>=2.6.8\n",
      "  Downloading Markdown-3.4.1-py3-none-any.whl (93 kB)\n",
      "\u001b[2K     \u001b[38;2;114;156;31m━━━━━━━━━━━━━━━━━━━━━━━━━━━━━━━━━━━━━━━━\u001b[0m \u001b[32m93.3/93.3 kB\u001b[0m \u001b[31m9.4 MB/s\u001b[0m eta \u001b[36m0:00:00\u001b[0m\n",
      "\u001b[?25hCollecting absl-py>=0.4\n",
      "  Downloading absl_py-1.3.0-py3-none-any.whl (124 kB)\n",
      "\u001b[2K     \u001b[38;2;114;156;31m━━━━━━━━━━━━━━━━━━━━━━━━━━━━━━━━━━━━━━\u001b[0m \u001b[32m124.6/124.6 kB\u001b[0m \u001b[31m12.7 MB/s\u001b[0m eta \u001b[36m0:00:00\u001b[0m\n",
      "\u001b[?25hCollecting werkzeug>=1.0.1\n",
      "  Using cached Werkzeug-2.2.2-py3-none-any.whl (232 kB)\n",
      "Collecting grpcio>=1.24.3\n",
      "  Downloading grpcio-1.49.1-cp39-cp39-manylinux_2_17_x86_64.manylinux2014_x86_64.whl (4.7 MB)\n",
      "\u001b[2K     \u001b[38;2;114;156;31m━━━━━━━━━━━━━━━━━━━━━━━━━━━━━━━━━━━━━━━━\u001b[0m \u001b[32m4.7/4.7 MB\u001b[0m \u001b[31m9.8 MB/s\u001b[0m eta \u001b[36m0:00:00\u001b[0m0m eta \u001b[36m0:00:01\u001b[0m0:01\u001b[0m:01\u001b[0m\n",
      "\u001b[?25hRequirement already satisfied: setuptools>=41.0.0 in /home/mawi/anaconda3/envs/yolov7_custom/lib/python3.9/site-packages (from tensorboard>=2.4.1->-r requirements.txt (line 17)) (63.4.1)\n"
     ]
    },
    {
     "name": "stdout",
     "output_type": "stream",
     "text": [
      "Requirement already satisfied: pytz>=2020.1 in /home/mawi/anaconda3/envs/yolov7_custom/lib/python3.9/site-packages (from pandas>=1.1.4->-r requirements.txt (line 21)) (2022.4)\n",
      "Requirement already satisfied: backcall in /home/mawi/anaconda3/envs/yolov7_custom/lib/python3.9/site-packages (from ipython->-r requirements.txt (line 34)) (0.2.0)\n",
      "Requirement already satisfied: pexpect>4.3 in /home/mawi/anaconda3/envs/yolov7_custom/lib/python3.9/site-packages (from ipython->-r requirements.txt (line 34)) (4.8.0)\n",
      "Requirement already satisfied: jedi>=0.16 in /home/mawi/anaconda3/envs/yolov7_custom/lib/python3.9/site-packages (from ipython->-r requirements.txt (line 34)) (0.18.1)\n",
      "Requirement already satisfied: pygments>=2.4.0 in /home/mawi/anaconda3/envs/yolov7_custom/lib/python3.9/site-packages (from ipython->-r requirements.txt (line 34)) (2.11.2)\n",
      "Requirement already satisfied: prompt-toolkit!=3.0.0,!=3.0.1,<3.1.0,>=2.0.0 in /home/mawi/anaconda3/envs/yolov7_custom/lib/python3.9/site-packages (from ipython->-r requirements.txt (line 34)) (3.0.20)\n",
      "Requirement already satisfied: traitlets>=5 in /home/mawi/anaconda3/envs/yolov7_custom/lib/python3.9/site-packages (from ipython->-r requirements.txt (line 34)) (5.1.1)\n",
      "Requirement already satisfied: matplotlib-inline in /home/mawi/anaconda3/envs/yolov7_custom/lib/python3.9/site-packages (from ipython->-r requirements.txt (line 34)) (0.1.2)\n",
      "Requirement already satisfied: stack-data in /home/mawi/anaconda3/envs/yolov7_custom/lib/python3.9/site-packages (from ipython->-r requirements.txt (line 34)) (0.2.0)\n",
      "Requirement already satisfied: pickleshare in /home/mawi/anaconda3/envs/yolov7_custom/lib/python3.9/site-packages (from ipython->-r requirements.txt (line 34)) (0.7.5)\n",
      "Requirement already satisfied: decorator in /home/mawi/anaconda3/envs/yolov7_custom/lib/python3.9/site-packages (from ipython->-r requirements.txt (line 34)) (5.1.1)\n",
      "Collecting pyasn1-modules>=0.2.1\n",
      "  Downloading pyasn1_modules-0.2.8-py2.py3-none-any.whl (155 kB)\n",
      "\u001b[2K     \u001b[38;2;114;156;31m━━━━━━━━━━━━━━━━━━━━━━━━━━━━━━━━━━━━━━━\u001b[0m \u001b[32m155.3/155.3 kB\u001b[0m \u001b[31m3.6 MB/s\u001b[0m eta \u001b[36m0:00:00\u001b[0mm eta \u001b[36m0:00:01\u001b[0m\n",
      "\u001b[?25hCollecting cachetools<6.0,>=2.0.0\n",
      "  Downloading cachetools-5.2.0-py3-none-any.whl (9.3 kB)\n",
      "Requirement already satisfied: six>=1.9.0 in /home/mawi/anaconda3/envs/yolov7_custom/lib/python3.9/site-packages (from google-auth<3,>=1.6.3->tensorboard>=2.4.1->-r requirements.txt (line 17)) (1.16.0)\n",
      "Collecting rsa<5,>=3.1.4\n",
      "  Downloading rsa-4.9-py3-none-any.whl (34 kB)\n",
      "Collecting requests-oauthlib>=0.7.0\n",
      "  Downloading requests_oauthlib-1.3.1-py2.py3-none-any.whl (23 kB)\n",
      "Requirement already satisfied: parso<0.9.0,>=0.8.0 in /home/mawi/anaconda3/envs/yolov7_custom/lib/python3.9/site-packages (from jedi>=0.16->ipython->-r requirements.txt (line 34)) (0.8.3)\n",
      "Collecting importlib-metadata>=4.4\n",
      "  Downloading importlib_metadata-5.0.0-py3-none-any.whl (21 kB)\n",
      "Requirement already satisfied: ptyprocess>=0.5 in /home/mawi/anaconda3/envs/yolov7_custom/lib/python3.9/site-packages (from pexpect>4.3->ipython->-r requirements.txt (line 34)) (0.7.0)\n",
      "Requirement already satisfied: wcwidth in /home/mawi/anaconda3/envs/yolov7_custom/lib/python3.9/site-packages (from prompt-toolkit!=3.0.0,!=3.0.1,<3.1.0,>=2.0.0->ipython->-r requirements.txt (line 34)) (0.2.5)\n",
      "Collecting MarkupSafe>=2.1.1\n",
      "  Downloading MarkupSafe-2.1.1-cp39-cp39-manylinux_2_17_x86_64.manylinux2014_x86_64.whl (25 kB)\n",
      "Requirement already satisfied: pure-eval in /home/mawi/anaconda3/envs/yolov7_custom/lib/python3.9/site-packages (from stack-data->ipython->-r requirements.txt (line 34)) (0.2.2)\n",
      "Requirement already satisfied: asttokens in /home/mawi/anaconda3/envs/yolov7_custom/lib/python3.9/site-packages (from stack-data->ipython->-r requirements.txt (line 34)) (2.0.5)\n",
      "Requirement already satisfied: executing in /home/mawi/anaconda3/envs/yolov7_custom/lib/python3.9/site-packages (from stack-data->ipython->-r requirements.txt (line 34)) (0.8.3)\n",
      "Collecting zipp>=0.5\n",
      "  Downloading zipp-3.9.0-py3-none-any.whl (5.8 kB)\n",
      "Collecting pyasn1<0.5.0,>=0.4.6\n",
      "  Downloading pyasn1-0.4.8-py2.py3-none-any.whl (77 kB)\n",
      "\u001b[2K     \u001b[38;2;114;156;31m━━━━━━━━━━━━━━━━━━━━━━━━━━━━━━━━━━━━━━━━\u001b[0m \u001b[32m77.1/77.1 kB\u001b[0m \u001b[31m11.0 MB/s\u001b[0m eta \u001b[36m0:00:00\u001b[0m\n",
      "\u001b[?25hCollecting oauthlib>=3.0.0\n",
      "  Downloading oauthlib-3.2.1-py3-none-any.whl (151 kB)\n",
      "\u001b[2K     \u001b[38;2;114;156;31m━━━━━━━━━━━━━━━━━━━━━━━━━━━━━━━━━━━━━━\u001b[0m \u001b[32m151.7/151.7 kB\u001b[0m \u001b[31m11.1 MB/s\u001b[0m eta \u001b[36m0:00:00\u001b[0m\n",
      "\u001b[?25hInstalling collected packages: tensorboard-plugin-wit, pyasn1, zipp, urllib3, typing-extensions, tqdm, tensorboard-data-server, scipy, rsa, PyYAML, pyparsing, pyasn1-modules, psutil, protobuf, Pillow, opencv-python, oauthlib, MarkupSafe, kiwisolver, idna, grpcio, fonttools, cycler, contourpy, charset-normalizer, cachetools, absl-py, werkzeug, torch, requests, packaging, importlib-metadata, google-auth, torchvision, thop, requests-oauthlib, matplotlib, markdown, seaborn, google-auth-oauthlib, tensorboard\n",
      "Successfully installed MarkupSafe-2.1.1 Pillow-9.2.0 PyYAML-6.0 absl-py-1.3.0 cachetools-5.2.0 charset-normalizer-2.1.1 contourpy-1.0.5 cycler-0.11.0 fonttools-4.37.4 google-auth-2.12.0 google-auth-oauthlib-0.4.6 grpcio-1.49.1 idna-3.4 importlib-metadata-5.0.0 kiwisolver-1.4.4 markdown-3.4.1 matplotlib-3.6.1 oauthlib-3.2.1 opencv-python-4.6.0.66 packaging-21.3 protobuf-3.19.6 psutil-5.9.2 pyasn1-0.4.8 pyasn1-modules-0.2.8 pyparsing-3.0.9 requests-2.28.1 requests-oauthlib-1.3.1 rsa-4.9 scipy-1.9.2 seaborn-0.12.0 tensorboard-2.10.1 tensorboard-data-server-0.6.1 tensorboard-plugin-wit-1.8.1 thop-0.1.1.post2209072238 torch-1.12.1 torchvision-0.13.1 tqdm-4.64.1 typing-extensions-4.4.0 urllib3-1.26.12 werkzeug-2.2.2 zipp-3.9.0\n"
     ]
    }
   ],
   "source": [
    "!cd yolov7 && pip install -r requirements.txt"
   ]
  },
  {
   "cell_type": "code",
   "execution_count": 80,
   "id": "7b1789c8",
   "metadata": {},
   "outputs": [
    {
     "name": "stdout",
     "output_type": "stream",
     "text": [
      "Collecting package metadata (current_repodata.json): done\n",
      "Solving environment: failed with initial frozen solve. Retrying with flexible solve.\n",
      "Collecting package metadata (repodata.json): done\n",
      "Solving environment: - \n",
      "Warning: 4 possible package resolutions (only showing differing packages):\n",
      "  - anaconda/linux-64::ca-certificates-2022.07.19-h06a4308_0, anaconda/linux-64::openssl-1.1.1q-h7f8727e_0\n",
      "  - anaconda/linux-64::openssl-1.1.1q-h7f8727e_0, defaults/linux-64::ca-certificates-2022.07.19-h06a4308_0\n",
      "  - anaconda/linux-64::ca-certificates-2022.07.19-h06a4308_0, defaults/linux-64::openssl-1.1.1q-h7f8727e_0\n",
      "  - defaults/linux-64::ca-certificates-2022.07.19-h06a4308_0, defaults/linux-64::openssl-1.1.1q-h7f8727edone\n",
      "\n",
      "\n",
      "==> WARNING: A newer version of conda exists. <==\n",
      "  current version: 4.12.0\n",
      "  latest version: 22.9.0\n",
      "\n",
      "Please update conda by running\n",
      "\n",
      "    $ conda update -n base -c defaults conda\n",
      "\n",
      "\n",
      "^C\n"
     ]
    }
   ],
   "source": [
    "!conda install pytorch==1.11.0 torchvision==0.12.0 torchaudio==0.11.0 cudatoolkit=11.3 -c pytorch -y"
   ]
  },
  {
   "cell_type": "code",
   "execution_count": 87,
   "id": "3ad319fa",
   "metadata": {},
   "outputs": [
    {
     "data": {
      "text/plain": [
       "False"
      ]
     },
     "execution_count": 87,
     "metadata": {},
     "output_type": "execute_result"
    }
   ],
   "source": [
    "import torch\n",
    "torch.cuda.is_available()"
   ]
  }
 ],
 "metadata": {
  "kernelspec": {
   "display_name": "yolov7_custom",
   "language": "python",
   "name": "yolov7_custom"
  },
  "language_info": {
   "codemirror_mode": {
    "name": "ipython",
    "version": 3
   },
   "file_extension": ".py",
   "mimetype": "text/x-python",
   "name": "python",
   "nbconvert_exporter": "python",
   "pygments_lexer": "ipython3",
   "version": "3.9.13"
  }
 },
 "nbformat": 4,
 "nbformat_minor": 5
}
