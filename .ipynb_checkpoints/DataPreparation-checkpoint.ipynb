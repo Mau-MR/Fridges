{
 "cells": [
  {
   "cell_type": "markdown",
   "id": "1784303f",
   "metadata": {},
   "source": [
    "# Converting SynthDet labels to yolo"
   ]
  },
  {
   "cell_type": "markdown",
   "id": "026b4b40",
   "metadata": {},
   "source": [
    "Project structure with labels"
   ]
  },
  {
   "cell_type": "code",
   "execution_count": 1,
   "id": "7c2316be",
   "metadata": {},
   "outputs": [
    {
     "name": "stdout",
     "output_type": "stream",
     "text": [
      "annotation_definitions.json  metrics_007.json  metrics_024.json\r\n",
      "captures_000.json\t     metrics_008.json  metrics_025.json\r\n",
      "captures_001.json\t     metrics_009.json  metrics_026.json\r\n",
      "captures_002.json\t     metrics_010.json  metrics_027.json\r\n",
      "captures_003.json\t     metrics_011.json  metrics_028.json\r\n",
      "captures_004.json\t     metrics_012.json  metrics_029.json\r\n",
      "captures_005.json\t     metrics_013.json  metrics_030.json\r\n",
      "captures_006.json\t     metrics_014.json  metrics_031.json\r\n",
      "egos.json\t\t     metrics_015.json  metrics_032.json\r\n",
      "metric_definitions.json      metrics_016.json  metrics_033.json\r\n",
      "metrics_000.json\t     metrics_017.json  metrics_034.json\r\n",
      "metrics_001.json\t     metrics_018.json  metrics_035.json\r\n",
      "metrics_002.json\t     metrics_019.json  metrics_036.json\r\n",
      "metrics_003.json\t     metrics_020.json  metrics_037.json\r\n",
      "metrics_004.json\t     metrics_021.json  metrics_038.json\r\n",
      "metrics_005.json\t     metrics_022.json  metrics_039.json\r\n",
      "metrics_006.json\t     metrics_023.json  sensors.json\r\n"
     ]
    }
   ],
   "source": [
    "!cd Info && ls"
   ]
  },
  {
   "cell_type": "markdown",
   "id": "27f0a208",
   "metadata": {},
   "source": [
    "Loading json with the labels"
   ]
  },
  {
   "cell_type": "code",
   "execution_count": 2,
   "id": "fefba100",
   "metadata": {},
   "outputs": [],
   "source": [
    "import json\n",
    "\n",
    "path_to_labels = 'Info/captures_00'\n",
    "number_files = 6\n",
    "jsons = []\n",
    "for file_number in range(number_files):\n",
    "    file = open(path_to_labels+str(file_number)+\".json\", 'r')\n",
    "    j = json.load(file)\n",
    "    jsons.append(j)"
   ]
  },
  {
   "cell_type": "code",
   "execution_count": 3,
   "id": "e37f554e",
   "metadata": {},
   "outputs": [
    {
     "name": "stderr",
     "output_type": "stream",
     "text": [
      "IOPub data rate exceeded.\n",
      "The notebook server will temporarily stop sending output\n",
      "to the client in order to avoid crashing it.\n",
      "To change this limit, set the config variable\n",
      "`--NotebookApp.iopub_data_rate_limit`.\n",
      "\n",
      "Current values:\n",
      "NotebookApp.iopub_data_rate_limit=1000000.0 (bytes/sec)\n",
      "NotebookApp.rate_limit_window=3.0 (secs)\n",
      "\n"
     ]
    }
   ],
   "source": [
    "for j in jsons:\n",
    "    print(j['captures'])"
   ]
  },
  {
   "cell_type": "code",
   "execution_count": 7,
   "id": "99fa2373",
   "metadata": {},
   "outputs": [
    {
     "name": "stderr",
     "output_type": "stream",
     "text": [
      "IOPub data rate exceeded.\n",
      "The notebook server will temporarily stop sending output\n",
      "to the client in order to avoid crashing it.\n",
      "To change this limit, set the config variable\n",
      "`--NotebookApp.iopub_data_rate_limit`.\n",
      "\n",
      "Current values:\n",
      "NotebookApp.iopub_data_rate_limit=1000000.0 (bytes/sec)\n",
      "NotebookApp.rate_limit_window=3.0 (secs)\n",
      "\n"
     ]
    }
   ],
   "source": [
    "for j in range(len(jsons)):\n",
    "    for label in jsons[j]['captures']:\n",
    "        print(label)\n"
   ]
  }
 ],
 "metadata": {
  "kernelspec": {
   "display_name": "yolov7_custom",
   "language": "python",
   "name": "yolov7_custom"
  },
  "language_info": {
   "codemirror_mode": {
    "name": "ipython",
    "version": 3
   },
   "file_extension": ".py",
   "mimetype": "text/x-python",
   "name": "python",
   "nbconvert_exporter": "python",
   "pygments_lexer": "ipython3",
   "version": "3.9.13"
  }
 },
 "nbformat": 4,
 "nbformat_minor": 5
}
